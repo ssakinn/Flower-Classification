{
  "nbformat": 4,
  "nbformat_minor": 0,
  "metadata": {
    "colab": {
      "provenance": [],
      "name": "tas_kagit_makas_sakin_berber.ipynb",
      "authorship_tag": "ABX9TyPGJW+OeU9rTt3VnbVCe1f/",
      "include_colab_link": true
    },
    "kernelspec": {
      "name": "python3",
      "display_name": "Python 3"
    },
    "language_info": {
      "name": "python"
    }
  },
  "cells": [
    {
      "cell_type": "markdown",
      "metadata": {
        "id": "view-in-github",
        "colab_type": "text"
      },
      "source": [
        "<a href=\"https://colab.research.google.com/github/ssakinn/flower-classification/blob/main/tas_kagit_makas_sakin_berber.ipynb\" target=\"_parent\"><img src=\"https://colab.research.google.com/assets/colab-badge.svg\" alt=\"Open In Colab\"/></a>"
      ]
    },
    {
      "cell_type": "code",
      "source": [
        "import random\n",
        "\n",
        "def tas_kagit_makas_SAKIN_BERBER():\n",
        "\n",
        "    print(\"Merhaba :)\")\n",
        "    print(\"Taş, Kağıt, Makas oyununa hoş geldiniz!\")\n",
        "    print(\"Oyun kuralları:\")\n",
        "    print(\"1. Taş, Kağıt, Makas seçeneklerinden birini seçin.\")\n",
        "    print(\"2. Bilgisayar da rastgele bir seçim yapacak.\")\n",
        "    print(\"3. İlk iki turu kazanan oyunu kazanır.\")\n",
        "    print(\"4. Eğer oynamak istemezseniz 'exit' yazarak oyundan çıkabilirsiniz.\")\n"
      ],
      "metadata": {
        "id": "oHp1zZajsqGp"
      },
      "execution_count": null,
      "outputs": []
    },
    {
      "cell_type": "code",
      "source": [
        "tas_kagit_makas_SAKIN_BERBER()"
      ],
      "metadata": {
        "colab": {
          "base_uri": "https://localhost:8080/"
        },
        "id": "PW-AFwepub0h",
        "outputId": "1deab310-3fcf-4507-8646-f75012eac7ee"
      },
      "execution_count": null,
      "outputs": [
        {
          "output_type": "stream",
          "name": "stdout",
          "text": [
            "Merhaba :)\n",
            "Taş, Kağıt, Makas oyununa hoş geldiniz!\n",
            "Oyun kuralları:\n",
            "1. Taş, Kağıt, Makas seçeneklerinden birini seçin.\n",
            "2. Bilgisayar da rastgele bir seçim yapacak.\n",
            "3. İlk iki turu kazanan oyunu kazanır.\n",
            "4. Eğer oynamak istemezseniz 'exit' yazarak oyundan çıkabilirsiniz.\n"
          ]
        }
      ]
    },
    {
      "cell_type": "code",
      "source": [
        "    secenekler = [\"taş\", \"kağıt\", \"makas\", \"aslan\", \"kanarya\", \"kartal\", \"superman\", \"batman\"]\n",
        "    oyun_sayisi = 0    # oyun sayacını baslattık"
      ],
      "metadata": {
        "id": "PMZd82dqvTGA"
      },
      "execution_count": null,
      "outputs": []
    },
    {
      "cell_type": "code",
      "source": [
        "while True:\n",
        "    oyun_sayisi += 1\n",
        "    oyuncu_galibiyet = 0\n",
        "    bilgisayar_galibiyet = 0\n",
        "\n",
        "    print(f\"\\n{oyun_sayisi}. oyuna başlıyorsunuz!\")\n",
        "\n",
        "    while oyuncu_galibiyet < 2 and bilgisayar_galibiyet < 2:\n",
        "        oyuncu_secim = input(\"Taş, Kağıt, Makas, Aslan, Kanarya, Kartal, Superman, Batman seçin: \").lower()\n",
        "\n",
        "        if oyuncu_secim == 'exit':\n",
        "            print(\"Oyundan çıkılıyor...\")\n",
        "            break\n",
        "\n",
        "        if oyuncu_secim not in secenekler:\n",
        "            print(\"Geçersiz seçim! Lütfen tekrar deneyin.\")\n",
        "            continue\n",
        "\n",
        "        bilgisayar_secim = random.choice(secenekler)\n",
        "        print(f\"Bilgisayarın seçimi: {bilgisayar_secim}\")\n",
        "\n",
        "        # Kazanma kuralları\n",
        "        if oyuncu_secim == bilgisayar_secim:\n",
        "            print(\"Dostluk Kazandı!\")\n",
        "        elif (oyuncu_secim == 'taş' and bilgisayar_secim == 'makas') or \\\n",
        "             (oyuncu_secim == 'kağıt' and bilgisayar_secim == 'taş') or \\\n",
        "             (oyuncu_secim == 'makas' and bilgisayar_secim == 'kağıt') or \\\n",
        "             (oyuncu_secim == \"aslan\" and (bilgisayar_secim == \"kanarya\" or bilgisayar_secim == \"kartal\")) or \\\n",
        "             (oyuncu_secim == \"kanarya\" and bilgisayar_secim == \"kartal\") or \\\n",
        "             (oyuncu_secim == \"kartal\" and bilgisayar_secim == \"superman\") or \\\n",
        "             (oyuncu_secim == \"superman\" and bilgisayar_secim == \"batman\") or \\\n",
        "             (oyuncu_secim == \"batman\" and bilgisayar_secim == \"aslan\") or \\\n",
        "             (oyuncu_secim == \"aslan\" and bilgisayar_secim == \"kanarya\") or \\\n",
        "             (oyuncu_secim == \"aslan\" and bilgisayar_secim == \"kartal\"):\n",
        "            print(\"Bu turu kazandınız!\")\n",
        "            oyuncu_galibiyet += 1\n",
        "        else:\n",
        "            print(\"Bu turu bilgisayar kazandı!\")\n",
        "            bilgisayar_galibiyet += 1\n",
        "\n",
        "        print(f\"Skor: Oyuncu {oyuncu_galibiyet} - {bilgisayar_galibiyet} Bilgisayar\")\n",
        "\n",
        "    if oyuncu_galibiyet == 2:\n",
        "        print(\"Tebrikler! Oyunu kazandınız!\")\n",
        "    else:\n",
        "        print(\"Bilgisayar oyunu kazandı!\")\n",
        "\n",
        "    devam = input(\"Başka bir oyun oynamak ister misiniz? (evet/hayır): \").lower()\n",
        "    if devam != 'evet':\n",
        "        print(\"Oyun sona erdi. Teşekkürler!\")\n",
        "        break\n",
        "\n",
        "    bilgisayar_devam = random.choice(['evet', 'hayır'])\n",
        "    print(f\"Bilgisayarın devam etme isteği: {bilgisayar_devam}\")\n",
        "    if bilgisayar_devam != 'evet':\n",
        "        print(\"Bilgisayar oyuna devam etmek istemiyor. Oyun sona erdi.\")\n",
        "        break"
      ],
      "metadata": {
        "colab": {
          "base_uri": "https://localhost:8080/"
        },
        "id": "YwUTvXonUUXh",
        "outputId": "688859ff-58c8-4ba1-8cc0-87c808792e27"
      },
      "execution_count": null,
      "outputs": [
        {
          "output_type": "stream",
          "name": "stdout",
          "text": [
            "\n",
            "16. oyuna başlıyorsunuz!\n",
            "Taş, Kağıt, Makas, Aslan, Kanarya, Kartal, Superman, Batman seçin: aslan\n",
            "Bilgisayarın seçimi: kanarya\n",
            "Bu turu kazandınız!\n",
            "Skor: Oyuncu 1 - 0 Bilgisayar\n",
            "Taş, Kağıt, Makas, Aslan, Kanarya, Kartal, Superman, Batman seçin: aslan\n",
            "Bilgisayarın seçimi: superman\n",
            "Bu turu bilgisayar kazandı!\n",
            "Skor: Oyuncu 1 - 1 Bilgisayar\n",
            "Taş, Kağıt, Makas, Aslan, Kanarya, Kartal, Superman, Batman seçin: kağıt\n",
            "Bilgisayarın seçimi: taş\n",
            "Bu turu kazandınız!\n",
            "Skor: Oyuncu 2 - 1 Bilgisayar\n",
            "Tebrikler! Oyunu kazandınız!\n",
            "Başka bir oyun oynamak ister misiniz? (evet/hayır): hayır\n",
            "Oyun sona erdi. Teşekkürler!\n"
          ]
        }
      ]
    }
  ]
}